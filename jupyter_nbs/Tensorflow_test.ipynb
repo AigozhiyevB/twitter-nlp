{
 "cells": [
  {
   "cell_type": "code",
   "execution_count": 43,
   "metadata": {
    "execution": {
     "iopub.execute_input": "2022-11-04T08:49:24.442281Z",
     "iopub.status.busy": "2022-11-04T08:49:24.441354Z",
     "iopub.status.idle": "2022-11-04T08:49:24.450633Z",
     "shell.execute_reply": "2022-11-04T08:49:24.449535Z",
     "shell.execute_reply.started": "2022-11-04T08:49:24.442229Z"
    },
    "id": "HhwBDkIc-13u"
   },
   "outputs": [],
   "source": [
    "import numpy as np\n",
    "import pandas as pd\n",
    "from matplotlib import pyplot as plt\n",
    "import nltk\n",
    "import contractions\n",
    "import re \n",
    "import json\n",
    "from nltk.tokenize import word_tokenize\n",
    "from nltk.corpus import stopwords\n",
    "from nltk.corpus import stopwords\n",
    "stop_words = stopwords.words('english')\n",
    "from nltk.stem.porter import PorterStemmer\n",
    "from keras.preprocessing.text import Tokenizer\n",
    "from tensorflow.keras.preprocessing.sequence import pad_sequences\n",
    "from sklearn.model_selection import train_test_split\n",
    "from keras.models import Sequential\n",
    "from keras.layers import Dense, Dropout, Embedding, LSTM, GlobalMaxPooling1D, SpatialDropout1D"
   ]
  },
  {
   "cell_type": "markdown",
   "metadata": {
    "id": "ZJUdHqGJ8NOm"
   },
   "source": [
    "# Data Exploring"
   ]
  },
  {
   "cell_type": "code",
   "execution_count": 13,
   "metadata": {
    "execution": {
     "iopub.execute_input": "2022-11-04T08:49:24.468610Z",
     "iopub.status.busy": "2022-11-04T08:49:24.468317Z",
     "iopub.status.idle": "2022-11-04T08:49:24.628462Z",
     "shell.execute_reply": "2022-11-04T08:49:24.627372Z",
     "shell.execute_reply.started": "2022-11-04T08:49:24.468583Z"
    },
    "id": "5LkjgDEF-13w"
   },
   "outputs": [],
   "source": [
    "df=pd.read_csv('../data/twitter_training.csv', sep=',', names=['Tweet_ID','Game','target','text'])"
   ]
  },
  {
   "cell_type": "code",
   "execution_count": 14,
   "metadata": {
    "colab": {
     "base_uri": "https://localhost:8080/"
    },
    "execution": {
     "iopub.execute_input": "2022-11-04T08:49:24.630944Z",
     "iopub.status.busy": "2022-11-04T08:49:24.630566Z",
     "iopub.status.idle": "2022-11-04T08:49:24.638591Z",
     "shell.execute_reply": "2022-11-04T08:49:24.636569Z",
     "shell.execute_reply.started": "2022-11-04T08:49:24.630904Z"
    },
    "id": "jeVC9S51-13x",
    "outputId": "a15fd596-ca48-4db8-dcf2-56c42899cbcf"
   },
   "outputs": [
    {
     "data": {
      "text/plain": [
       "(74682, 4)"
      ]
     },
     "execution_count": 14,
     "metadata": {},
     "output_type": "execute_result"
    }
   ],
   "source": [
    "df.shape"
   ]
  },
  {
   "cell_type": "code",
   "execution_count": 15,
   "metadata": {
    "colab": {
     "base_uri": "https://localhost:8080/",
     "height": 206
    },
    "execution": {
     "iopub.execute_input": "2022-11-04T08:49:24.641310Z",
     "iopub.status.busy": "2022-11-04T08:49:24.640236Z",
     "iopub.status.idle": "2022-11-04T08:49:24.653904Z",
     "shell.execute_reply": "2022-11-04T08:49:24.652885Z",
     "shell.execute_reply.started": "2022-11-04T08:49:24.641245Z"
    },
    "id": "J35hICnd-13y",
    "outputId": "4d0d5f97-d90d-4481-8817-5d4268cce506"
   },
   "outputs": [
    {
     "data": {
      "text/html": [
       "<div>\n",
       "<style scoped>\n",
       "    .dataframe tbody tr th:only-of-type {\n",
       "        vertical-align: middle;\n",
       "    }\n",
       "\n",
       "    .dataframe tbody tr th {\n",
       "        vertical-align: top;\n",
       "    }\n",
       "\n",
       "    .dataframe thead th {\n",
       "        text-align: right;\n",
       "    }\n",
       "</style>\n",
       "<table border=\"1\" class=\"dataframe\">\n",
       "  <thead>\n",
       "    <tr style=\"text-align: right;\">\n",
       "      <th></th>\n",
       "      <th>Tweet_ID</th>\n",
       "      <th>Game</th>\n",
       "      <th>target</th>\n",
       "      <th>text</th>\n",
       "    </tr>\n",
       "  </thead>\n",
       "  <tbody>\n",
       "    <tr>\n",
       "      <th>0</th>\n",
       "      <td>2401</td>\n",
       "      <td>Borderlands</td>\n",
       "      <td>Positive</td>\n",
       "      <td>im getting on borderlands and i will murder yo...</td>\n",
       "    </tr>\n",
       "    <tr>\n",
       "      <th>1</th>\n",
       "      <td>2401</td>\n",
       "      <td>Borderlands</td>\n",
       "      <td>Positive</td>\n",
       "      <td>I am coming to the borders and I will kill you...</td>\n",
       "    </tr>\n",
       "    <tr>\n",
       "      <th>2</th>\n",
       "      <td>2401</td>\n",
       "      <td>Borderlands</td>\n",
       "      <td>Positive</td>\n",
       "      <td>im getting on borderlands and i will kill you ...</td>\n",
       "    </tr>\n",
       "    <tr>\n",
       "      <th>3</th>\n",
       "      <td>2401</td>\n",
       "      <td>Borderlands</td>\n",
       "      <td>Positive</td>\n",
       "      <td>im coming on borderlands and i will murder you...</td>\n",
       "    </tr>\n",
       "    <tr>\n",
       "      <th>4</th>\n",
       "      <td>2401</td>\n",
       "      <td>Borderlands</td>\n",
       "      <td>Positive</td>\n",
       "      <td>im getting on borderlands 2 and i will murder ...</td>\n",
       "    </tr>\n",
       "  </tbody>\n",
       "</table>\n",
       "</div>"
      ],
      "text/plain": [
       "   Tweet_ID         Game    target  \\\n",
       "0      2401  Borderlands  Positive   \n",
       "1      2401  Borderlands  Positive   \n",
       "2      2401  Borderlands  Positive   \n",
       "3      2401  Borderlands  Positive   \n",
       "4      2401  Borderlands  Positive   \n",
       "\n",
       "                                                text  \n",
       "0  im getting on borderlands and i will murder yo...  \n",
       "1  I am coming to the borders and I will kill you...  \n",
       "2  im getting on borderlands and i will kill you ...  \n",
       "3  im coming on borderlands and i will murder you...  \n",
       "4  im getting on borderlands 2 and i will murder ...  "
      ]
     },
     "execution_count": 15,
     "metadata": {},
     "output_type": "execute_result"
    }
   ],
   "source": [
    "df.head()"
   ]
  },
  {
   "cell_type": "code",
   "execution_count": 16,
   "metadata": {
    "execution": {
     "iopub.execute_input": "2022-11-04T08:49:24.996779Z",
     "iopub.status.busy": "2022-11-04T08:49:24.996383Z",
     "iopub.status.idle": "2022-11-04T08:49:25.015614Z",
     "shell.execute_reply": "2022-11-04T08:49:25.014625Z",
     "shell.execute_reply.started": "2022-11-04T08:49:24.996752Z"
    },
    "id": "0iogjwtz-134"
   },
   "outputs": [],
   "source": [
    "df.dropna(axis=0, inplace=True)"
   ]
  },
  {
   "cell_type": "code",
   "execution_count": 17,
   "metadata": {
    "execution": {
     "iopub.execute_input": "2022-11-04T08:49:25.038108Z",
     "iopub.status.busy": "2022-11-04T08:49:25.037759Z",
     "iopub.status.idle": "2022-11-04T08:49:25.044189Z",
     "shell.execute_reply": "2022-11-04T08:49:25.043274Z",
     "shell.execute_reply.started": "2022-11-04T08:49:25.038073Z"
    },
    "id": "fm7RNHgo-135"
   },
   "outputs": [],
   "source": [
    "df.reset_index(inplace=True)\n"
   ]
  },
  {
   "cell_type": "code",
   "execution_count": 20,
   "metadata": {
    "colab": {
     "base_uri": "https://localhost:8080/"
    },
    "execution": {
     "iopub.execute_input": "2022-11-04T08:49:25.046391Z",
     "iopub.status.busy": "2022-11-04T08:49:25.045449Z",
     "iopub.status.idle": "2022-11-04T08:49:25.055154Z",
     "shell.execute_reply": "2022-11-04T08:49:25.054168Z",
     "shell.execute_reply.started": "2022-11-04T08:49:25.046356Z"
    },
    "id": "MaZV3ern-136",
    "outputId": "51133a7a-e776-4cae-fe95-42105d9ce106"
   },
   "outputs": [],
   "source": [
    "df = df.drop(['index', 'Tweet_ID'], axis = 1)"
   ]
  },
  {
   "cell_type": "code",
   "execution_count": 26,
   "metadata": {
    "colab": {
     "base_uri": "https://localhost:8080/",
     "height": 206
    },
    "execution": {
     "iopub.execute_input": "2022-11-04T08:49:25.057704Z",
     "iopub.status.busy": "2022-11-04T08:49:25.056606Z",
     "iopub.status.idle": "2022-11-04T08:49:25.070324Z",
     "shell.execute_reply": "2022-11-04T08:49:25.069214Z",
     "shell.execute_reply.started": "2022-11-04T08:49:25.057661Z"
    },
    "id": "p_pSeNLP-137",
    "outputId": "f3c3dde3-4cb2-4e3b-ef30-7b6c23209a69"
   },
   "outputs": [
    {
     "data": {
      "text/plain": [
       "{'direct': {'Positive': 3, 'Neutral': 2, 'Negative': 1, 'Irrelevant': 0},\n",
       " 'reverse': {'3': 'Positive',\n",
       "  '2': 'Neutral',\n",
       "  '1': 'Negative',\n",
       "  '0': 'Irrelevant'}}"
      ]
     },
     "execution_count": 26,
     "metadata": {},
     "output_type": "execute_result"
    }
   ],
   "source": [
    "with open('../build/labels.json', 'r') as f:\n",
    "    mapa = json.load(f)\n",
    "mapa"
   ]
  },
  {
   "cell_type": "code",
   "execution_count": 39,
   "metadata": {
    "execution": {
     "iopub.execute_input": "2022-11-04T08:49:25.072310Z",
     "iopub.status.busy": "2022-11-04T08:49:25.071778Z",
     "iopub.status.idle": "2022-11-04T08:49:25.080539Z",
     "shell.execute_reply": "2022-11-04T08:49:25.079342Z",
     "shell.execute_reply.started": "2022-11-04T08:49:25.072271Z"
    },
    "id": "R8JV1zpD-137"
   },
   "outputs": [],
   "source": [
    "df[\"text\"] = df['text'].apply(lambda x: str(x))\n",
    "df[\"text\"] = df.text.apply(lambda x: re.sub('[^A-Za-z0-9 ]+', '', x))\n",
    "df['text'] = df.text.apply(lambda x: re.sub(r'[^\\w\\s]', '', x))\n",
    "df[\"text\"] = df['text'].str.lower()\n",
    "df['text'] = df['text'].apply(lambda x: contractions.fix(x))\n",
    "df['target'] = df['target'].apply(lambda x: mapa['direct'][x])\n",
    "df['text'] = df['text'].apply(lambda x: ' '.join(x.split()))"
   ]
  },
  {
   "cell_type": "code",
   "execution_count": 40,
   "metadata": {
    "execution": {
     "iopub.execute_input": "2022-11-04T08:49:25.082822Z",
     "iopub.status.busy": "2022-11-04T08:49:25.082209Z",
     "iopub.status.idle": "2022-11-04T08:49:25.621635Z",
     "shell.execute_reply": "2022-11-04T08:49:25.620645Z",
     "shell.execute_reply.started": "2022-11-04T08:49:25.082786Z"
    },
    "id": "ytIxRlmm-138"
   },
   "outputs": [],
   "source": [
    "x = df['text']\n",
    "y = df['target']"
   ]
  },
  {
   "cell_type": "code",
   "execution_count": 41,
   "metadata": {
    "colab": {
     "base_uri": "https://localhost:8080/",
     "height": 36
    },
    "execution": {
     "iopub.execute_input": "2022-11-04T08:49:25.625912Z",
     "iopub.status.busy": "2022-11-04T08:49:25.625609Z",
     "iopub.status.idle": "2022-11-04T08:49:25.632117Z",
     "shell.execute_reply": "2022-11-04T08:49:25.631177Z",
     "shell.execute_reply.started": "2022-11-04T08:49:25.625884Z"
    },
    "id": "5XFyQDtO-139",
    "outputId": "1c900e60-d97b-4128-d90b-116b58abb186"
   },
   "outputs": [
    {
     "data": {
      "text/plain": [
       "('the great awakening they fear us', 0)"
      ]
     },
     "execution_count": 41,
     "metadata": {},
     "output_type": "execute_result"
    }
   ],
   "source": [
    "x[23452], y[23452]"
   ]
  },
  {
   "cell_type": "code",
   "execution_count": 44,
   "metadata": {
    "execution": {
     "iopub.execute_input": "2022-11-04T08:49:25.986447Z",
     "iopub.status.busy": "2022-11-04T08:49:25.985374Z",
     "iopub.status.idle": "2022-11-04T08:49:25.994588Z",
     "shell.execute_reply": "2022-11-04T08:49:25.993562Z",
     "shell.execute_reply.started": "2022-11-04T08:49:25.986405Z"
    },
    "id": "t1Kir_dS-13-"
   },
   "outputs": [],
   "source": [
    "def remove_stop_words(corpus):\n",
    "    removed_stop_words = []\n",
    "    for review in corpus:\n",
    "        removed_stop_words.append(\n",
    "            ' '.join([word for word in review.split()  if word not in stop_words]))\n",
    "    return removed_stop_words\n",
    "\n",
    "def get_stemmed_text(corpus):\n",
    "    stemmer = PorterStemmer()\n",
    "    return [' '.join([stemmer.stem(word) for word in review.split()]) for review in corpus]"
   ]
  },
  {
   "cell_type": "code",
   "execution_count": 54,
   "metadata": {
    "collapsed": true,
    "execution": {
     "iopub.execute_input": "2022-11-04T08:49:26.011626Z",
     "iopub.status.busy": "2022-11-04T08:49:26.011140Z",
     "iopub.status.idle": "2022-11-04T08:49:29.801977Z",
     "shell.execute_reply": "2022-11-04T08:49:29.800933Z",
     "shell.execute_reply.started": "2022-11-04T08:49:26.011589Z"
    },
    "id": "ABc1Nd6J-13_"
   },
   "outputs": [
    {
     "ename": "AttributeError",
     "evalue": "'numpy.ndarray' object has no attribute 'split'",
     "output_type": "error",
     "traceback": [
      "\u001b[1;31m---------------------------------------------------------------------------\u001b[0m",
      "\u001b[1;31mAttributeError\u001b[0m                            Traceback (most recent call last)",
      "Cell \u001b[1;32mIn[54], line 1\u001b[0m\n\u001b[1;32m----> 1\u001b[0m no_stop_words_tweet \u001b[38;5;241m=\u001b[39m \u001b[43mremove_stop_words\u001b[49m\u001b[43m(\u001b[49m\u001b[43mx\u001b[49m\u001b[43m)\u001b[49m\n\u001b[0;32m      2\u001b[0m stemmed_reviews_tweet \u001b[38;5;241m=\u001b[39m get_stemmed_text(no_stop_words_tweet)\n",
      "Cell \u001b[1;32mIn[53], line 5\u001b[0m, in \u001b[0;36mremove_stop_words\u001b[1;34m(corpus)\u001b[0m\n\u001b[0;32m      2\u001b[0m removed_stop_words \u001b[38;5;241m=\u001b[39m []\n\u001b[0;32m      3\u001b[0m \u001b[38;5;28;01mfor\u001b[39;00m review \u001b[38;5;129;01min\u001b[39;00m corpus:\n\u001b[0;32m      4\u001b[0m     removed_stop_words\u001b[38;5;241m.\u001b[39mappend(\n\u001b[1;32m----> 5\u001b[0m         \u001b[38;5;124m'\u001b[39m\u001b[38;5;124m \u001b[39m\u001b[38;5;124m'\u001b[39m\u001b[38;5;241m.\u001b[39mjoin([word \u001b[38;5;28;01mfor\u001b[39;00m word \u001b[38;5;129;01min\u001b[39;00m \u001b[43mreview\u001b[49m\u001b[38;5;241;43m.\u001b[39;49m\u001b[43msplit\u001b[49m()  \u001b[38;5;28;01mif\u001b[39;00m word \u001b[38;5;129;01mnot\u001b[39;00m \u001b[38;5;129;01min\u001b[39;00m stop_words]))\n\u001b[0;32m      6\u001b[0m \u001b[38;5;28;01mreturn\u001b[39;00m removed_stop_words\n",
      "\u001b[1;31mAttributeError\u001b[0m: 'numpy.ndarray' object has no attribute 'split'"
     ]
    }
   ],
   "source": [
    "no_stop_words_tweet = remove_stop_words(x)\n",
    "stemmed_reviews_tweet = get_stemmed_text(no_stop_words_tweet)"
   ]
  },
  {
   "cell_type": "code",
   "execution_count": 47,
   "metadata": {
    "colab": {
     "base_uri": "https://localhost:8080/",
     "height": 36
    },
    "execution": {
     "iopub.execute_input": "2022-11-04T08:49:29.806155Z",
     "iopub.status.busy": "2022-11-04T08:49:29.805831Z",
     "iopub.status.idle": "2022-11-04T08:49:29.816655Z",
     "shell.execute_reply": "2022-11-04T08:49:29.815552Z",
     "shell.execute_reply.started": "2022-11-04T08:49:29.806115Z"
    },
    "id": "kZbcE8Bs-14A",
    "outputId": "d5ef21ca-f3b0-4bd7-8cc3-d704f82c934e"
   },
   "outputs": [
    {
     "data": {
      "text/plain": [
       "'great awaken fear us'"
      ]
     },
     "execution_count": 47,
     "metadata": {},
     "output_type": "execute_result"
    }
   ],
   "source": [
    "stemmed_reviews_tweet[23452]"
   ]
  },
  {
   "cell_type": "code",
   "execution_count": 61,
   "metadata": {},
   "outputs": [],
   "source": [
    "num_words = 8000\n",
    "maxlen = 200\n",
    "\n",
    "tokenizer = Tokenizer(\n",
    "    num_words = num_words,\n",
    "    filters = '!\"#$%&()*+,-./:;<=>?@[\\\\]^_`{|}~\\t\\n'\n",
    ")\n",
    "tokenizer.fit_on_texts(stemmed_reviews_tweet)"
   ]
  },
  {
   "cell_type": "code",
   "execution_count": 53,
   "metadata": {},
   "outputs": [],
   "source": [
    "def remove_stop_words(corpus):\n",
    "    removed_stop_words = []\n",
    "    for review in corpus:\n",
    "        removed_stop_words.append(\n",
    "            ' '.join([word for word in review.split()  if word not in stop_words]))\n",
    "    return removed_stop_words\n",
    "\n",
    "def get_stemmed_text(corpus):\n",
    "    stemmer = PorterStemmer()\n",
    "    return [' '.join([stemmer.stem(word) for word in review.split()]) for review in corpus]\n",
    "\n",
    "def text_prep(text):\n",
    "    text = str(text)\n",
    "    text = re.sub('[^A-Za-z0-9 ]+', '', text)\n",
    "    text = re.sub(r'[^\\w\\s]', '', text)\n",
    "    text = text.lower()\n",
    "    text = contractions.fix(text)\n",
    "    text = ' '.join(text.split())\n",
    "    text = remove_stop_words(text)\n",
    "    text = get_stemmed_text(text)"
   ]
  },
  {
   "cell_type": "code",
   "execution_count": 49,
   "metadata": {
    "execution": {
     "iopub.execute_input": "2022-11-04T08:49:29.818826Z",
     "iopub.status.busy": "2022-11-04T08:49:29.818369Z",
     "iopub.status.idle": "2022-11-04T08:49:32.776430Z",
     "shell.execute_reply": "2022-11-04T08:49:32.775328Z",
     "shell.execute_reply.started": "2022-11-04T08:49:29.818764Z"
    },
    "id": "EG1vTQDD-14A"
   },
   "outputs": [],
   "source": [
    "tokenizer.fit_on_texts(stemmed_reviews_tweet)\n",
    "x = tokenizer.texts_to_sequences(stemmed_reviews_tweet)\n",
    "x = pad_sequences(x, maxlen = maxlen)"
   ]
  },
  {
   "cell_type": "code",
   "execution_count": 56,
   "metadata": {
    "execution": {
     "iopub.execute_input": "2022-11-04T08:49:33.801538Z",
     "iopub.status.busy": "2022-11-04T08:49:33.801146Z",
     "iopub.status.idle": "2022-11-04T08:49:33.844360Z",
     "shell.execute_reply": "2022-11-04T08:49:33.843322Z",
     "shell.execute_reply.started": "2022-11-04T08:49:33.801478Z"
    },
    "id": "M1ac5uyk-14B"
   },
   "outputs": [],
   "source": [
    "from sklearn.model_selection import train_test_split\n",
    "x_train, x_test, y_train, y_test = train_test_split(x, y, test_size=0.2, random_state=42)"
   ]
  },
  {
   "cell_type": "code",
   "execution_count": 87,
   "metadata": {},
   "outputs": [],
   "source": [
    "from keras.callbacks import ModelCheckpoint\n",
    "filepath = '../bin/my_best_model_keras'\n",
    "checkpoint = ModelCheckpoint(filepath=filepath, \n",
    "                             monitor='val_loss',\n",
    "                             verbose=1, \n",
    "                             save_best_only=True,\n",
    "                             mode='min')"
   ]
  },
  {
   "cell_type": "code",
   "execution_count": 88,
   "metadata": {
    "colab": {
     "base_uri": "https://localhost:8080/"
    },
    "execution": {
     "iopub.execute_input": "2022-11-04T08:59:18.424439Z",
     "iopub.status.busy": "2022-11-04T08:59:18.424079Z",
     "iopub.status.idle": "2022-11-04T08:59:18.828131Z",
     "shell.execute_reply": "2022-11-04T08:59:18.827163Z",
     "shell.execute_reply.started": "2022-11-04T08:59:18.424407Z"
    },
    "id": "6gtVKyls-14C",
    "outputId": "738e3907-9cc6-4800-8d03-0569141e5d3e"
   },
   "outputs": [],
   "source": [
    "model = Sequential()\n",
    "model.add(Embedding(input_dim = num_words, output_dim = 32, input_length = maxlen))\n",
    "model.add(SpatialDropout1D(0.3))\n",
    "model.add(LSTM(32, dropout = 0.3, recurrent_dropout = 0.3))\n",
    "model.add(Dense(32, activation = 'relu'))\n",
    "model.add(Dropout(0.3))\n",
    "model.add(Dense(4, activation = 'softmax'))\n",
    "model.compile(\n",
    "    loss='sparse_categorical_crossentropy',\n",
    "    optimizer='Adam',\n",
    "    metrics=['accuracy']\n",
    ")"
   ]
  },
  {
   "cell_type": "code",
   "execution_count": null,
   "metadata": {
    "colab": {
     "base_uri": "https://localhost:8080/"
    },
    "execution": {
     "iopub.execute_input": "2022-11-04T08:59:18.830415Z",
     "iopub.status.busy": "2022-11-04T08:59:18.830064Z",
     "iopub.status.idle": "2022-11-04T09:29:25.709007Z",
     "shell.execute_reply": "2022-11-04T09:29:25.707582Z",
     "shell.execute_reply.started": "2022-11-04T08:59:18.830379Z"
    },
    "id": "c6xut99z-14C",
    "outputId": "b8be25cb-0984-4a1c-d7b3-c33b2570799f"
   },
   "outputs": [
    {
     "name": "stdout",
     "output_type": "stream",
     "text": [
      "Epoch 1/20\n",
      "1850/1850 [==============================] - ETA: 0s - loss: 1.0634 - accuracy: 0.5548\n",
      "Epoch 1: val_loss improved from inf to 0.85699, saving model to ../bin\\my_best_model_keras\n"
     ]
    },
    {
     "name": "stderr",
     "output_type": "stream",
     "text": [
      "WARNING:absl:Found untraced functions such as _update_step_xla while saving (showing 1 of 1). These functions will not be directly callable after loading.\n"
     ]
    },
    {
     "name": "stdout",
     "output_type": "stream",
     "text": [
      "INFO:tensorflow:Assets written to: ../bin\\my_best_model_keras\\assets\n"
     ]
    },
    {
     "name": "stderr",
     "output_type": "stream",
     "text": [
      "INFO:tensorflow:Assets written to: ../bin\\my_best_model_keras\\assets\n"
     ]
    },
    {
     "name": "stdout",
     "output_type": "stream",
     "text": [
      "1850/1850 [==============================] - 210s 112ms/step - loss: 1.0634 - accuracy: 0.5548 - val_loss: 0.8570 - val_accuracy: 0.6667\n",
      "Epoch 2/20\n",
      "1850/1850 [==============================] - ETA: 0s - loss: 0.8009 - accuracy: 0.6956\n",
      "Epoch 2: val_loss improved from 0.85699 to 0.74636, saving model to ../bin\\my_best_model_keras\n"
     ]
    },
    {
     "name": "stderr",
     "output_type": "stream",
     "text": [
      "WARNING:absl:Found untraced functions such as _update_step_xla while saving (showing 1 of 1). These functions will not be directly callable after loading.\n"
     ]
    },
    {
     "name": "stdout",
     "output_type": "stream",
     "text": [
      "INFO:tensorflow:Assets written to: ../bin\\my_best_model_keras\\assets\n"
     ]
    },
    {
     "name": "stderr",
     "output_type": "stream",
     "text": [
      "INFO:tensorflow:Assets written to: ../bin\\my_best_model_keras\\assets\n"
     ]
    },
    {
     "name": "stdout",
     "output_type": "stream",
     "text": [
      "1850/1850 [==============================] - 255s 138ms/step - loss: 0.8009 - accuracy: 0.6956 - val_loss: 0.7464 - val_accuracy: 0.7118\n",
      "Epoch 3/20\n",
      "1850/1850 [==============================] - ETA: 0s - loss: 0.7095 - accuracy: 0.7337\n",
      "Epoch 3: val_loss improved from 0.74636 to 0.69053, saving model to ../bin\\my_best_model_keras\n"
     ]
    },
    {
     "name": "stderr",
     "output_type": "stream",
     "text": [
      "WARNING:absl:Found untraced functions such as _update_step_xla while saving (showing 1 of 1). These functions will not be directly callable after loading.\n"
     ]
    },
    {
     "name": "stdout",
     "output_type": "stream",
     "text": [
      "INFO:tensorflow:Assets written to: ../bin\\my_best_model_keras\\assets\n"
     ]
    },
    {
     "name": "stderr",
     "output_type": "stream",
     "text": [
      "INFO:tensorflow:Assets written to: ../bin\\my_best_model_keras\\assets\n"
     ]
    },
    {
     "name": "stdout",
     "output_type": "stream",
     "text": [
      "1850/1850 [==============================] - 268s 145ms/step - loss: 0.7095 - accuracy: 0.7337 - val_loss: 0.6905 - val_accuracy: 0.7318\n",
      "Epoch 4/20\n",
      "1850/1850 [==============================] - ETA: 0s - loss: 0.6472 - accuracy: 0.7588\n",
      "Epoch 4: val_loss improved from 0.69053 to 0.65939, saving model to ../bin\\my_best_model_keras\n"
     ]
    },
    {
     "name": "stderr",
     "output_type": "stream",
     "text": [
      "WARNING:absl:Found untraced functions such as _update_step_xla while saving (showing 1 of 1). These functions will not be directly callable after loading.\n"
     ]
    },
    {
     "name": "stdout",
     "output_type": "stream",
     "text": [
      "INFO:tensorflow:Assets written to: ../bin\\my_best_model_keras\\assets\n"
     ]
    },
    {
     "name": "stderr",
     "output_type": "stream",
     "text": [
      "INFO:tensorflow:Assets written to: ../bin\\my_best_model_keras\\assets\n"
     ]
    },
    {
     "name": "stdout",
     "output_type": "stream",
     "text": [
      "1850/1850 [==============================] - 283s 153ms/step - loss: 0.6472 - accuracy: 0.7588 - val_loss: 0.6594 - val_accuracy: 0.7461\n",
      "Epoch 5/20\n",
      "1850/1850 [==============================] - ETA: 0s - loss: 0.6043 - accuracy: 0.7726\n",
      "Epoch 5: val_loss improved from 0.65939 to 0.64080, saving model to ../bin\\my_best_model_keras\n"
     ]
    },
    {
     "name": "stderr",
     "output_type": "stream",
     "text": [
      "WARNING:absl:Found untraced functions such as _update_step_xla while saving (showing 1 of 1). These functions will not be directly callable after loading.\n"
     ]
    },
    {
     "name": "stdout",
     "output_type": "stream",
     "text": [
      "INFO:tensorflow:Assets written to: ../bin\\my_best_model_keras\\assets\n"
     ]
    },
    {
     "name": "stderr",
     "output_type": "stream",
     "text": [
      "INFO:tensorflow:Assets written to: ../bin\\my_best_model_keras\\assets\n"
     ]
    },
    {
     "name": "stdout",
     "output_type": "stream",
     "text": [
      "1850/1850 [==============================] - 282s 152ms/step - loss: 0.6043 - accuracy: 0.7726 - val_loss: 0.6408 - val_accuracy: 0.7552\n",
      "Epoch 6/20\n",
      "1850/1850 [==============================] - ETA: 0s - loss: 0.5681 - accuracy: 0.7883\n",
      "Epoch 6: val_loss improved from 0.64080 to 0.62652, saving model to ../bin\\my_best_model_keras\n"
     ]
    },
    {
     "name": "stderr",
     "output_type": "stream",
     "text": [
      "WARNING:absl:Found untraced functions such as _update_step_xla while saving (showing 1 of 1). These functions will not be directly callable after loading.\n"
     ]
    },
    {
     "name": "stdout",
     "output_type": "stream",
     "text": [
      "INFO:tensorflow:Assets written to: ../bin\\my_best_model_keras\\assets\n"
     ]
    },
    {
     "name": "stderr",
     "output_type": "stream",
     "text": [
      "INFO:tensorflow:Assets written to: ../bin\\my_best_model_keras\\assets\n"
     ]
    },
    {
     "name": "stdout",
     "output_type": "stream",
     "text": [
      "1850/1850 [==============================] - 353s 191ms/step - loss: 0.5681 - accuracy: 0.7883 - val_loss: 0.6265 - val_accuracy: 0.7628\n",
      "Epoch 7/20\n",
      "1687/1850 [==========================>...] - ETA: 26s - loss: 0.5401 - accuracy: 0.7951"
     ]
    }
   ],
   "source": [
    "history = model.fit(\n",
    "    x_train,\n",
    "    y_train,\n",
    "    validation_data = (x_test,y_test) , \n",
    "    epochs = 20,\n",
    "    callbacks=[checkpoint]\n",
    ")\n"
   ]
  },
  {
   "cell_type": "code",
   "execution_count": 69,
   "metadata": {
    "colab": {
     "base_uri": "https://localhost:8080/"
    },
    "id": "Hek35EJS-14D",
    "outputId": "c59e451e-1659-448f-b310-f5532ebc5953"
   },
   "outputs": [
    {
     "name": "stdout",
     "output_type": "stream",
     "text": [
      "Model: \"sequential_3\"\n",
      "_________________________________________________________________\n",
      " Layer (type)                Output Shape              Param #   \n",
      "=================================================================\n",
      " embedding_3 (Embedding)     (None, 200, 32)           256000    \n",
      "                                                                 \n",
      " spatial_dropout1d_3 (Spatia  (None, 200, 32)          0         \n",
      " lDropout1D)                                                     \n",
      "                                                                 \n",
      " lstm_3 (LSTM)               (None, 32)                8320      \n",
      "                                                                 \n",
      " dense_6 (Dense)             (None, 32)                1056      \n",
      "                                                                 \n",
      " dropout_3 (Dropout)         (None, 32)                0         \n",
      "                                                                 \n",
      " dense_7 (Dense)             (None, 4)                 132       \n",
      "                                                                 \n",
      "=================================================================\n",
      "Total params: 265,508\n",
      "Trainable params: 265,508\n",
      "Non-trainable params: 0\n",
      "_________________________________________________________________\n"
     ]
    }
   ],
   "source": [
    "model.summary()\n"
   ]
  },
  {
   "cell_type": "code",
   "execution_count": 79,
   "metadata": {},
   "outputs": [
    {
     "data": {
      "image/png": "[encoded data removed]",
      "text/plain": [
       "<Figure size 640x480 with 1 Axes>"
      ]
     },
     "metadata": {},
     "output_type": "display_data"
    }
   ],
   "source": [
    "def plot_keras(hist, metr='accuracy'):\n",
    "    h = hist.history\n",
    "    x = range(len(h[metr]))\n",
    "    plt.plot(x, h[metr], label='Train')\n",
    "    plt.plot(x, h['val_'+metr], label='Val')\n",
    "    plt.legend()\n",
    "    plt.grid()\n",
    "    plt.show()\n",
    "\n",
    "plot_keras(history)"
   ]
  },
  {
   "cell_type": "code",
   "execution_count": 80,
   "metadata": {},
   "outputs": [
    {
     "name": "stderr",
     "output_type": "stream",
     "text": [
      "WARNING:absl:Found untraced functions such as _update_step_xla while saving (showing 1 of 1). These functions will not be directly callable after loading.\n"
     ]
    },
    {
     "name": "stdout",
     "output_type": "stream",
     "text": [
      "INFO:tensorflow:Assets written to: ../bin/keras_1\\assets\n"
     ]
    },
    {
     "name": "stderr",
     "output_type": "stream",
     "text": [
      "INFO:tensorflow:Assets written to: ../bin/keras_1\\assets\n"
     ]
    }
   ],
   "source": [
    "model.save('../bin/keras_1')"
   ]
  }
 ],
 "metadata": {
  "accelerator": "GPU",
  "colab": {
   "provenance": []
  },
  "gpuClass": "standard",
  "kernelspec": {
   "display_name": "Python 3 (ipykernel)",
   "language": "python",
   "name": "python3"
  },
  "language_info": {
   "codemirror_mode": {
    "name": "ipython",
    "version": 3
   },
   "file_extension": ".py",
   "mimetype": "text/x-python",
   "name": "python",
   "nbconvert_exporter": "python",
   "pygments_lexer": "ipython3",
   "version": "3.8.15"
  }
 },
 "nbformat": 4,
 "nbformat_minor": 4
}

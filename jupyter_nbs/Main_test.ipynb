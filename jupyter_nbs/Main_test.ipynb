{
 "cells": [
  {
   "cell_type": "code",
   "execution_count": 57,
   "id": "caf026bd",
   "metadata": {},
   "outputs": [],
   "source": [
    "import pandas as pd\n",
    "import numpy as np\n",
    "import matplotlib.pyplot as plt\n",
    "import tensorflow as tf\n",
    "from tensorflow.keras.preprocessing.text import Tokenizer\n",
    "from tensorflow.keras.preprocessing.sequence import pad_sequences\n",
    "tokenizer = Tokenizer(oov_token=\"<OOV>\")\n",
    "from keras.wrappers.scikit_learn import KerasClassifier"
   ]
  },
  {
   "cell_type": "code",
   "execution_count": 27,
   "id": "09657bfa",
   "metadata": {},
   "outputs": [],
   "source": [
    "from sklearn.model_selection import train_test_split\n",
    "from sklearn.preprocessing import LabelEncoder\n",
    "from tqdm import tqdm"
   ]
  },
  {
   "cell_type": "code",
   "execution_count": 18,
   "id": "13aa8937",
   "metadata": {},
   "outputs": [
    {
     "data": {
      "text/html": [
       "<div>\n",
       "<style scoped>\n",
       "    .dataframe tbody tr th:only-of-type {\n",
       "        vertical-align: middle;\n",
       "    }\n",
       "\n",
       "    .dataframe tbody tr th {\n",
       "        vertical-align: top;\n",
       "    }\n",
       "\n",
       "    .dataframe thead th {\n",
       "        text-align: right;\n",
       "    }\n",
       "</style>\n",
       "<table border=\"1\" class=\"dataframe\">\n",
       "  <thead>\n",
       "    <tr style=\"text-align: right;\">\n",
       "      <th></th>\n",
       "      <th>id</th>\n",
       "      <th>game</th>\n",
       "      <th>target</th>\n",
       "      <th>text</th>\n",
       "    </tr>\n",
       "  </thead>\n",
       "  <tbody>\n",
       "    <tr>\n",
       "      <th>0</th>\n",
       "      <td>2401</td>\n",
       "      <td>Borderlands</td>\n",
       "      <td>Positive</td>\n",
       "      <td>I am coming to the borders and I will kill you...</td>\n",
       "    </tr>\n",
       "    <tr>\n",
       "      <th>1</th>\n",
       "      <td>2401</td>\n",
       "      <td>Borderlands</td>\n",
       "      <td>Positive</td>\n",
       "      <td>im getting on borderlands and i will kill you ...</td>\n",
       "    </tr>\n",
       "    <tr>\n",
       "      <th>2</th>\n",
       "      <td>2401</td>\n",
       "      <td>Borderlands</td>\n",
       "      <td>Positive</td>\n",
       "      <td>im coming on borderlands and i will murder you...</td>\n",
       "    </tr>\n",
       "    <tr>\n",
       "      <th>3</th>\n",
       "      <td>2401</td>\n",
       "      <td>Borderlands</td>\n",
       "      <td>Positive</td>\n",
       "      <td>im getting on borderlands 2 and i will murder ...</td>\n",
       "    </tr>\n",
       "    <tr>\n",
       "      <th>4</th>\n",
       "      <td>2401</td>\n",
       "      <td>Borderlands</td>\n",
       "      <td>Positive</td>\n",
       "      <td>im getting into borderlands and i can murder y...</td>\n",
       "    </tr>\n",
       "    <tr>\n",
       "      <th>...</th>\n",
       "      <td>...</td>\n",
       "      <td>...</td>\n",
       "      <td>...</td>\n",
       "      <td>...</td>\n",
       "    </tr>\n",
       "    <tr>\n",
       "      <th>74676</th>\n",
       "      <td>9200</td>\n",
       "      <td>Nvidia</td>\n",
       "      <td>Positive</td>\n",
       "      <td>Just realized that the Windows partition of my...</td>\n",
       "    </tr>\n",
       "    <tr>\n",
       "      <th>74677</th>\n",
       "      <td>9200</td>\n",
       "      <td>Nvidia</td>\n",
       "      <td>Positive</td>\n",
       "      <td>Just realized that my Mac window partition is ...</td>\n",
       "    </tr>\n",
       "    <tr>\n",
       "      <th>74678</th>\n",
       "      <td>9200</td>\n",
       "      <td>Nvidia</td>\n",
       "      <td>Positive</td>\n",
       "      <td>Just realized the windows partition of my Mac ...</td>\n",
       "    </tr>\n",
       "    <tr>\n",
       "      <th>74679</th>\n",
       "      <td>9200</td>\n",
       "      <td>Nvidia</td>\n",
       "      <td>Positive</td>\n",
       "      <td>Just realized between the windows partition of...</td>\n",
       "    </tr>\n",
       "    <tr>\n",
       "      <th>74680</th>\n",
       "      <td>9200</td>\n",
       "      <td>Nvidia</td>\n",
       "      <td>Positive</td>\n",
       "      <td>Just like the windows partition of my Mac is l...</td>\n",
       "    </tr>\n",
       "  </tbody>\n",
       "</table>\n",
       "<p>73995 rows × 4 columns</p>\n",
       "</div>"
      ],
      "text/plain": [
       "         id         game    target  \\\n",
       "0      2401  Borderlands  Positive   \n",
       "1      2401  Borderlands  Positive   \n",
       "2      2401  Borderlands  Positive   \n",
       "3      2401  Borderlands  Positive   \n",
       "4      2401  Borderlands  Positive   \n",
       "...     ...          ...       ...   \n",
       "74676  9200       Nvidia  Positive   \n",
       "74677  9200       Nvidia  Positive   \n",
       "74678  9200       Nvidia  Positive   \n",
       "74679  9200       Nvidia  Positive   \n",
       "74680  9200       Nvidia  Positive   \n",
       "\n",
       "                                                    text  \n",
       "0      I am coming to the borders and I will kill you...  \n",
       "1      im getting on borderlands and i will kill you ...  \n",
       "2      im coming on borderlands and i will murder you...  \n",
       "3      im getting on borderlands 2 and i will murder ...  \n",
       "4      im getting into borderlands and i can murder y...  \n",
       "...                                                  ...  \n",
       "74676  Just realized that the Windows partition of my...  \n",
       "74677  Just realized that my Mac window partition is ...  \n",
       "74678  Just realized the windows partition of my Mac ...  \n",
       "74679  Just realized between the windows partition of...  \n",
       "74680  Just like the windows partition of my Mac is l...  \n",
       "\n",
       "[73995 rows x 4 columns]"
      ]
     },
     "execution_count": 18,
     "metadata": {},
     "output_type": "execute_result"
    }
   ],
   "source": [
    "df = pd.read_csv('../data/twitter_training.csv')\n",
    "df = pd.DataFrame(df.values, columns = ['id', 'game', 'target', 'text'])\n",
    "df = df.dropna()\n",
    "df"
   ]
  },
  {
   "cell_type": "code",
   "execution_count": 19,
   "id": "3a80bd24",
   "metadata": {},
   "outputs": [
    {
     "name": "stdout",
     "output_type": "stream",
     "text": [
      "Game column has 32 unique categories\n",
      "Targets have these values:\n",
      " {'Negative', 'Positive', 'Neutral', 'Irrelevant'}\n"
     ]
    }
   ],
   "source": [
    "(set(df['game'].values))\n",
    "print(f'Game column has {len(set(df[\"game\"].values))} unique categories')\n",
    "print('Targets have these values:\\n', set(df[\"target\"].values))"
   ]
  },
  {
   "cell_type": "code",
   "execution_count": 20,
   "id": "963f4e4c",
   "metadata": {},
   "outputs": [
    {
     "data": {
      "text/html": [
       "<div>\n",
       "<style scoped>\n",
       "    .dataframe tbody tr th:only-of-type {\n",
       "        vertical-align: middle;\n",
       "    }\n",
       "\n",
       "    .dataframe tbody tr th {\n",
       "        vertical-align: top;\n",
       "    }\n",
       "\n",
       "    .dataframe thead th {\n",
       "        text-align: right;\n",
       "    }\n",
       "</style>\n",
       "<table border=\"1\" class=\"dataframe\">\n",
       "  <thead>\n",
       "    <tr style=\"text-align: right;\">\n",
       "      <th></th>\n",
       "      <th>id</th>\n",
       "      <th>game</th>\n",
       "      <th>text</th>\n",
       "    </tr>\n",
       "    <tr>\n",
       "      <th>target</th>\n",
       "      <th></th>\n",
       "      <th></th>\n",
       "      <th></th>\n",
       "    </tr>\n",
       "  </thead>\n",
       "  <tbody>\n",
       "    <tr>\n",
       "      <th>Irrelevant</th>\n",
       "      <td>12875</td>\n",
       "      <td>12875</td>\n",
       "      <td>12875</td>\n",
       "    </tr>\n",
       "    <tr>\n",
       "      <th>Negative</th>\n",
       "      <td>22358</td>\n",
       "      <td>22358</td>\n",
       "      <td>22358</td>\n",
       "    </tr>\n",
       "    <tr>\n",
       "      <th>Neutral</th>\n",
       "      <td>18108</td>\n",
       "      <td>18108</td>\n",
       "      <td>18108</td>\n",
       "    </tr>\n",
       "    <tr>\n",
       "      <th>Positive</th>\n",
       "      <td>20654</td>\n",
       "      <td>20654</td>\n",
       "      <td>20654</td>\n",
       "    </tr>\n",
       "  </tbody>\n",
       "</table>\n",
       "</div>"
      ],
      "text/plain": [
       "               id   game   text\n",
       "target                         \n",
       "Irrelevant  12875  12875  12875\n",
       "Negative    22358  22358  22358\n",
       "Neutral     18108  18108  18108\n",
       "Positive    20654  20654  20654"
      ]
     },
     "execution_count": 20,
     "metadata": {},
     "output_type": "execute_result"
    }
   ],
   "source": [
    "df.groupby('target').count()"
   ]
  },
  {
   "cell_type": "markdown",
   "id": "af400a1f",
   "metadata": {},
   "source": [
    "Targets are slightly unbalanced"
   ]
  },
  {
   "cell_type": "code",
   "execution_count": 30,
   "id": "4c057fc4",
   "metadata": {},
   "outputs": [
    {
     "data": {
      "image/png": "[encoded data removed]",
      "text/plain": [
       "<Figure size 640x480 with 1 Axes>"
      ]
     },
     "metadata": {},
     "output_type": "display_data"
    }
   ],
   "source": [
    "lens = []\n",
    "for i in df['text'].values:\n",
    "    lens.append(len(i.split()))\n",
    "    \n",
    "plt.hist(lens)\n",
    "plt.show()"
   ]
  },
  {
   "cell_type": "code",
   "execution_count": 23,
   "id": "027fa306",
   "metadata": {},
   "outputs": [],
   "source": [
    "def plot_graphs(history, metric):\n",
    "    plt.plot(history.history[metric])\n",
    "    plt.plot(history.history['val_'+metric], '')\n",
    "    plt.xlabel(\"Epochs\")\n",
    "    plt.ylabel(metric)\n",
    "    plt.legend([metric, 'val_'+metric])\n"
   ]
  },
  {
   "cell_type": "code",
   "execution_count": 25,
   "id": "65e414c9",
   "metadata": {},
   "outputs": [],
   "source": [
    "df = df.drop('id', axis = 1)\n",
    "lbl = LabelEncoder()\n",
    "df['game'] = lbl.fit_transform(df['game'])"
   ]
  },
  {
   "cell_type": "code",
   "execution_count": 36,
   "id": "b1f36191",
   "metadata": {
    "collapsed": true
   },
   "outputs": [
    {
     "ename": "KeyError",
     "evalue": "3",
     "output_type": "error",
     "traceback": [
      "\u001b[1;31m---------------------------------------------------------------------------\u001b[0m",
      "\u001b[1;31mKeyError\u001b[0m                                  Traceback (most recent call last)",
      "Cell \u001b[1;32mIn[36], line 9\u001b[0m\n\u001b[0;32m      6\u001b[0m \u001b[38;5;28;01mfor\u001b[39;00m i \u001b[38;5;129;01min\u001b[39;00m mapa\u001b[38;5;241m.\u001b[39mkeys():\n\u001b[0;32m      7\u001b[0m     rev[mapa\u001b[38;5;241m.\u001b[39mget(i)] \u001b[38;5;241m=\u001b[39m i\n\u001b[1;32m----> 9\u001b[0m df[\u001b[38;5;124m'\u001b[39m\u001b[38;5;124mtarget\u001b[39m\u001b[38;5;124m'\u001b[39m] \u001b[38;5;241m=\u001b[39m \u001b[43mdf\u001b[49m\u001b[43m[\u001b[49m\u001b[38;5;124;43m'\u001b[39;49m\u001b[38;5;124;43mtarget\u001b[39;49m\u001b[38;5;124;43m'\u001b[39;49m\u001b[43m]\u001b[49m\u001b[38;5;241;43m.\u001b[39;49m\u001b[43mapply\u001b[49m\u001b[43m(\u001b[49m\u001b[38;5;28;43;01mlambda\u001b[39;49;00m\u001b[43m \u001b[49m\u001b[43mx\u001b[49m\u001b[43m:\u001b[49m\u001b[43m \u001b[49m\u001b[43mmapa\u001b[49m\u001b[43m[\u001b[49m\u001b[43mx\u001b[49m\u001b[43m]\u001b[49m\u001b[43m)\u001b[49m\n\u001b[0;32m     10\u001b[0m y \u001b[38;5;241m=\u001b[39m df[\u001b[38;5;124m'\u001b[39m\u001b[38;5;124mtarget\u001b[39m\u001b[38;5;124m'\u001b[39m]\n\u001b[0;32m     11\u001b[0m x \u001b[38;5;241m=\u001b[39m df\u001b[38;5;241m.\u001b[39mdrop(\u001b[38;5;124m'\u001b[39m\u001b[38;5;124mtarget\u001b[39m\u001b[38;5;124m'\u001b[39m, axis\u001b[38;5;241m=\u001b[39m\u001b[38;5;241m1\u001b[39m)\n",
      "File \u001b[1;32m~\\AppData\\Local\\miniconda3\\envs\\mvenv\\lib\\site-packages\\pandas\\core\\series.py:4771\u001b[0m, in \u001b[0;36mSeries.apply\u001b[1;34m(self, func, convert_dtype, args, **kwargs)\u001b[0m\n\u001b[0;32m   4661\u001b[0m \u001b[38;5;28;01mdef\u001b[39;00m \u001b[38;5;21mapply\u001b[39m(\n\u001b[0;32m   4662\u001b[0m     \u001b[38;5;28mself\u001b[39m,\n\u001b[0;32m   4663\u001b[0m     func: AggFuncType,\n\u001b[1;32m   (...)\u001b[0m\n\u001b[0;32m   4666\u001b[0m     \u001b[38;5;241m*\u001b[39m\u001b[38;5;241m*\u001b[39mkwargs,\n\u001b[0;32m   4667\u001b[0m ) \u001b[38;5;241m-\u001b[39m\u001b[38;5;241m>\u001b[39m DataFrame \u001b[38;5;241m|\u001b[39m Series:\n\u001b[0;32m   4668\u001b[0m     \u001b[38;5;124;03m\"\"\"\u001b[39;00m\n\u001b[0;32m   4669\u001b[0m \u001b[38;5;124;03m    Invoke function on values of Series.\u001b[39;00m\n\u001b[0;32m   4670\u001b[0m \n\u001b[1;32m   (...)\u001b[0m\n\u001b[0;32m   4769\u001b[0m \u001b[38;5;124;03m    dtype: float64\u001b[39;00m\n\u001b[0;32m   4770\u001b[0m \u001b[38;5;124;03m    \"\"\"\u001b[39;00m\n\u001b[1;32m-> 4771\u001b[0m     \u001b[38;5;28;01mreturn\u001b[39;00m \u001b[43mSeriesApply\u001b[49m\u001b[43m(\u001b[49m\u001b[38;5;28;43mself\u001b[39;49m\u001b[43m,\u001b[49m\u001b[43m \u001b[49m\u001b[43mfunc\u001b[49m\u001b[43m,\u001b[49m\u001b[43m \u001b[49m\u001b[43mconvert_dtype\u001b[49m\u001b[43m,\u001b[49m\u001b[43m \u001b[49m\u001b[43margs\u001b[49m\u001b[43m,\u001b[49m\u001b[43m \u001b[49m\u001b[43mkwargs\u001b[49m\u001b[43m)\u001b[49m\u001b[38;5;241;43m.\u001b[39;49m\u001b[43mapply\u001b[49m\u001b[43m(\u001b[49m\u001b[43m)\u001b[49m\n",
      "File \u001b[1;32m~\\AppData\\Local\\miniconda3\\envs\\mvenv\\lib\\site-packages\\pandas\\core\\apply.py:1123\u001b[0m, in \u001b[0;36mSeriesApply.apply\u001b[1;34m(self)\u001b[0m\n\u001b[0;32m   1120\u001b[0m     \u001b[38;5;28;01mreturn\u001b[39;00m \u001b[38;5;28mself\u001b[39m\u001b[38;5;241m.\u001b[39mapply_str()\n\u001b[0;32m   1122\u001b[0m \u001b[38;5;66;03m# self.f is Callable\u001b[39;00m\n\u001b[1;32m-> 1123\u001b[0m \u001b[38;5;28;01mreturn\u001b[39;00m \u001b[38;5;28;43mself\u001b[39;49m\u001b[38;5;241;43m.\u001b[39;49m\u001b[43mapply_standard\u001b[49m\u001b[43m(\u001b[49m\u001b[43m)\u001b[49m\n",
      "File \u001b[1;32m~\\AppData\\Local\\miniconda3\\envs\\mvenv\\lib\\site-packages\\pandas\\core\\apply.py:1174\u001b[0m, in \u001b[0;36mSeriesApply.apply_standard\u001b[1;34m(self)\u001b[0m\n\u001b[0;32m   1172\u001b[0m     \u001b[38;5;28;01melse\u001b[39;00m:\n\u001b[0;32m   1173\u001b[0m         values \u001b[38;5;241m=\u001b[39m obj\u001b[38;5;241m.\u001b[39mastype(\u001b[38;5;28mobject\u001b[39m)\u001b[38;5;241m.\u001b[39m_values\n\u001b[1;32m-> 1174\u001b[0m         mapped \u001b[38;5;241m=\u001b[39m \u001b[43mlib\u001b[49m\u001b[38;5;241;43m.\u001b[39;49m\u001b[43mmap_infer\u001b[49m\u001b[43m(\u001b[49m\n\u001b[0;32m   1175\u001b[0m \u001b[43m            \u001b[49m\u001b[43mvalues\u001b[49m\u001b[43m,\u001b[49m\n\u001b[0;32m   1176\u001b[0m \u001b[43m            \u001b[49m\u001b[43mf\u001b[49m\u001b[43m,\u001b[49m\n\u001b[0;32m   1177\u001b[0m \u001b[43m            \u001b[49m\u001b[43mconvert\u001b[49m\u001b[38;5;241;43m=\u001b[39;49m\u001b[38;5;28;43mself\u001b[39;49m\u001b[38;5;241;43m.\u001b[39;49m\u001b[43mconvert_dtype\u001b[49m\u001b[43m,\u001b[49m\n\u001b[0;32m   1178\u001b[0m \u001b[43m        \u001b[49m\u001b[43m)\u001b[49m\n\u001b[0;32m   1180\u001b[0m \u001b[38;5;28;01mif\u001b[39;00m \u001b[38;5;28mlen\u001b[39m(mapped) \u001b[38;5;129;01mand\u001b[39;00m \u001b[38;5;28misinstance\u001b[39m(mapped[\u001b[38;5;241m0\u001b[39m], ABCSeries):\n\u001b[0;32m   1181\u001b[0m     \u001b[38;5;66;03m# GH#43986 Need to do list(mapped) in order to get treated as nested\u001b[39;00m\n\u001b[0;32m   1182\u001b[0m     \u001b[38;5;66;03m#  See also GH#25959 regarding EA support\u001b[39;00m\n\u001b[0;32m   1183\u001b[0m     \u001b[38;5;28;01mreturn\u001b[39;00m obj\u001b[38;5;241m.\u001b[39m_constructor_expanddim(\u001b[38;5;28mlist\u001b[39m(mapped), index\u001b[38;5;241m=\u001b[39mobj\u001b[38;5;241m.\u001b[39mindex)\n",
      "File \u001b[1;32m~\\AppData\\Local\\miniconda3\\envs\\mvenv\\lib\\site-packages\\pandas\\_libs\\lib.pyx:2924\u001b[0m, in \u001b[0;36mpandas._libs.lib.map_infer\u001b[1;34m()\u001b[0m\n",
      "Cell \u001b[1;32mIn[36], line 9\u001b[0m, in \u001b[0;36m<lambda>\u001b[1;34m(x)\u001b[0m\n\u001b[0;32m      6\u001b[0m \u001b[38;5;28;01mfor\u001b[39;00m i \u001b[38;5;129;01min\u001b[39;00m mapa\u001b[38;5;241m.\u001b[39mkeys():\n\u001b[0;32m      7\u001b[0m     rev[mapa\u001b[38;5;241m.\u001b[39mget(i)] \u001b[38;5;241m=\u001b[39m i\n\u001b[1;32m----> 9\u001b[0m df[\u001b[38;5;124m'\u001b[39m\u001b[38;5;124mtarget\u001b[39m\u001b[38;5;124m'\u001b[39m] \u001b[38;5;241m=\u001b[39m df[\u001b[38;5;124m'\u001b[39m\u001b[38;5;124mtarget\u001b[39m\u001b[38;5;124m'\u001b[39m]\u001b[38;5;241m.\u001b[39mapply(\u001b[38;5;28;01mlambda\u001b[39;00m x: \u001b[43mmapa\u001b[49m\u001b[43m[\u001b[49m\u001b[43mx\u001b[49m\u001b[43m]\u001b[49m)\n\u001b[0;32m     10\u001b[0m y \u001b[38;5;241m=\u001b[39m df[\u001b[38;5;124m'\u001b[39m\u001b[38;5;124mtarget\u001b[39m\u001b[38;5;124m'\u001b[39m]\n\u001b[0;32m     11\u001b[0m x \u001b[38;5;241m=\u001b[39m df\u001b[38;5;241m.\u001b[39mdrop(\u001b[38;5;124m'\u001b[39m\u001b[38;5;124mtarget\u001b[39m\u001b[38;5;124m'\u001b[39m, axis\u001b[38;5;241m=\u001b[39m\u001b[38;5;241m1\u001b[39m)\n",
      "\u001b[1;31mKeyError\u001b[0m: 3"
     ]
    }
   ],
   "source": [
    "mapa = {'Positive':3,\n",
    "        'Neutral': 2,\n",
    "        'Negative': 1,\n",
    "        'Irrelevant': 2}\n",
    "rev = {}\n",
    "for i in mapa.keys():\n",
    "    rev[mapa.get(i)] = i\n",
    "\n",
    "df['target'] = df['target'].apply(lambda x: mapa[x])\n",
    "y = df['target']\n",
    "x = df.drop('target', axis=1)\n",
    "x"
   ]
  },
  {
   "cell_type": "code",
   "execution_count": 37,
   "id": "ae6b4d2b",
   "metadata": {
    "collapsed": true
   },
   "outputs": [
    {
     "data": {
      "text/html": [
       "<div>\n",
       "<style scoped>\n",
       "    .dataframe tbody tr th:only-of-type {\n",
       "        vertical-align: middle;\n",
       "    }\n",
       "\n",
       "    .dataframe tbody tr th {\n",
       "        vertical-align: top;\n",
       "    }\n",
       "\n",
       "    .dataframe thead th {\n",
       "        text-align: right;\n",
       "    }\n",
       "</style>\n",
       "<table border=\"1\" class=\"dataframe\">\n",
       "  <thead>\n",
       "    <tr style=\"text-align: right;\">\n",
       "      <th></th>\n",
       "      <th>game</th>\n",
       "      <th>text</th>\n",
       "    </tr>\n",
       "  </thead>\n",
       "  <tbody>\n",
       "    <tr>\n",
       "      <th>0</th>\n",
       "      <td>4</td>\n",
       "      <td>I am coming to the borders and I will kill you...</td>\n",
       "    </tr>\n",
       "    <tr>\n",
       "      <th>1</th>\n",
       "      <td>4</td>\n",
       "      <td>im getting on borderlands and i will kill you ...</td>\n",
       "    </tr>\n",
       "    <tr>\n",
       "      <th>2</th>\n",
       "      <td>4</td>\n",
       "      <td>im coming on borderlands and i will murder you...</td>\n",
       "    </tr>\n",
       "    <tr>\n",
       "      <th>3</th>\n",
       "      <td>4</td>\n",
       "      <td>im getting on borderlands 2 and i will murder ...</td>\n",
       "    </tr>\n",
       "    <tr>\n",
       "      <th>4</th>\n",
       "      <td>4</td>\n",
       "      <td>im getting into borderlands and i can murder y...</td>\n",
       "    </tr>\n",
       "    <tr>\n",
       "      <th>...</th>\n",
       "      <td>...</td>\n",
       "      <td>...</td>\n",
       "    </tr>\n",
       "    <tr>\n",
       "      <th>74676</th>\n",
       "      <td>21</td>\n",
       "      <td>Just realized that the Windows partition of my...</td>\n",
       "    </tr>\n",
       "    <tr>\n",
       "      <th>74677</th>\n",
       "      <td>21</td>\n",
       "      <td>Just realized that my Mac window partition is ...</td>\n",
       "    </tr>\n",
       "    <tr>\n",
       "      <th>74678</th>\n",
       "      <td>21</td>\n",
       "      <td>Just realized the windows partition of my Mac ...</td>\n",
       "    </tr>\n",
       "    <tr>\n",
       "      <th>74679</th>\n",
       "      <td>21</td>\n",
       "      <td>Just realized between the windows partition of...</td>\n",
       "    </tr>\n",
       "    <tr>\n",
       "      <th>74680</th>\n",
       "      <td>21</td>\n",
       "      <td>Just like the windows partition of my Mac is l...</td>\n",
       "    </tr>\n",
       "  </tbody>\n",
       "</table>\n",
       "<p>73995 rows × 2 columns</p>\n",
       "</div>"
      ],
      "text/plain": [
       "       game                                               text\n",
       "0         4  I am coming to the borders and I will kill you...\n",
       "1         4  im getting on borderlands and i will kill you ...\n",
       "2         4  im coming on borderlands and i will murder you...\n",
       "3         4  im getting on borderlands 2 and i will murder ...\n",
       "4         4  im getting into borderlands and i can murder y...\n",
       "...     ...                                                ...\n",
       "74676    21  Just realized that the Windows partition of my...\n",
       "74677    21  Just realized that my Mac window partition is ...\n",
       "74678    21  Just realized the windows partition of my Mac ...\n",
       "74679    21  Just realized between the windows partition of...\n",
       "74680    21  Just like the windows partition of my Mac is l...\n",
       "\n",
       "[73995 rows x 2 columns]"
      ]
     },
     "execution_count": 37,
     "metadata": {},
     "output_type": "execute_result"
    }
   ],
   "source": [
    "y = df['target']\n",
    "x = df.drop('target', axis=1)\n",
    "x"
   ]
  },
  {
   "cell_type": "code",
   "execution_count": 41,
   "id": "0ab7ff0c",
   "metadata": {},
   "outputs": [],
   "source": [
    "X_train, X_test, y_train, y_test = train_test_split(x, y, random_state=42, test_size=0.2)"
   ]
  },
  {
   "cell_type": "code",
   "execution_count": 85,
   "id": "5d15e38a",
   "metadata": {},
   "outputs": [],
   "source": [
    "vocab_size = 500\n",
    "embedding_dim = 16\n",
    "max_length = 50\n",
    "num_classes = len(np.unique(y_train))\n",
    "trunc_type = 'post'\n",
    "oov_tok = '<OOV>'\n",
    "padding_type = 'post'\n",
    "tokenizer = Tokenizer(num_words=vocab_size, oov_token=oov_tok)\n",
    "tokenizer.fit_on_texts(X_train['text'])\n",
    "word_index = tokenizer.word_index"
   ]
  },
  {
   "cell_type": "code",
   "execution_count": 72,
   "id": "4ae2dbf9",
   "metadata": {},
   "outputs": [
    {
     "ename": "AttributeError",
     "evalue": "'numpy.ndarray' object has no attribute 'values'",
     "output_type": "error",
     "traceback": [
      "\u001b[1;31m---------------------------------------------------------------------------\u001b[0m",
      "\u001b[1;31mAttributeError\u001b[0m                            Traceback (most recent call last)",
      "Cell \u001b[1;32mIn[72], line 1\u001b[0m\n\u001b[1;32m----> 1\u001b[0m y_train \u001b[38;5;241m=\u001b[39m tf\u001b[38;5;241m.\u001b[39mkeras\u001b[38;5;241m.\u001b[39mutils\u001b[38;5;241m.\u001b[39mto_categorical(\u001b[43my_train\u001b[49m\u001b[38;5;241;43m.\u001b[39;49m\u001b[43mvalues\u001b[49m, num_classes\u001b[38;5;241m=\u001b[39mnum_classes)\n\u001b[0;32m      2\u001b[0m y_test \u001b[38;5;241m=\u001b[39m tf\u001b[38;5;241m.\u001b[39mkeras\u001b[38;5;241m.\u001b[39mutils\u001b[38;5;241m.\u001b[39mto_categorical(y_test\u001b[38;5;241m.\u001b[39mvalues, num_classes\u001b[38;5;241m=\u001b[39mnum_classes)\n",
      "\u001b[1;31mAttributeError\u001b[0m: 'numpy.ndarray' object has no attribute 'values'"
     ]
    }
   ],
   "source": [
    "y_train = tf.keras.utils.to_categorical(y_train.values, num_classes=num_classes)\n",
    "y_test = tf.keras.utils.to_categorical(y_test.values, num_classes=num_classes)"
   ]
  },
  {
   "cell_type": "code",
   "execution_count": 86,
   "id": "2b0a43fc",
   "metadata": {},
   "outputs": [],
   "source": [
    "sequences = tokenizer.texts_to_sequences(X_train['text'])\n",
    "padded = pad_sequences(sequences, maxlen=max_length, truncating=trunc_type)\n",
    "testing_sentences = tokenizer.texts_to_sequences(X_test['text'])\n",
    "testing_padded = pad_sequences(testing_sentences, maxlen=max_length)"
   ]
  },
  {
   "cell_type": "code",
   "execution_count": 87,
   "id": "63e67cd2",
   "metadata": {},
   "outputs": [
    {
     "data": {
      "text/plain": [
       "(59196, 50)"
      ]
     },
     "execution_count": 87,
     "metadata": {},
     "output_type": "execute_result"
    }
   ],
   "source": [
    "padded.shape"
   ]
  },
  {
   "cell_type": "markdown",
   "id": "b4ce450b",
   "metadata": {},
   "source": [
    "## Modelling"
   ]
  },
  {
   "cell_type": "code",
   "execution_count": 104,
   "id": "267e5604",
   "metadata": {},
   "outputs": [],
   "source": [
    "model = tf.keras.Sequential([\n",
    "    tf.keras.layers.Embedding(vocab_size, embedding_dim,\n",
    "                              input_length=max_length),\n",
    "    tf.keras.layers.GlobalAveragePooling1D(),\n",
    "    tf.keras.layers.Dense(30, activation='relu'),\n",
    "    tf.keras.layers.Dense(10, activation='relu'),\n",
    "    tf.keras.layers.Dense(4, activation='sigmoid')\n",
    "])"
   ]
  },
  {
   "cell_type": "code",
   "execution_count": 105,
   "id": "fcc18cc8",
   "metadata": {},
   "outputs": [],
   "source": [
    "model.compile(loss=\"categorical_crossentropy\", optimizer= \"adam\",\n",
    "              metrics=['accuracy'])"
   ]
  },
  {
   "cell_type": "code",
   "execution_count": 106,
   "id": "e9ef8909",
   "metadata": {},
   "outputs": [
    {
     "name": "stdout",
     "output_type": "stream",
     "text": [
      "Epoch 1/50\n",
      "1850/1850 [==============================] - 3s 2ms/step - loss: 1.2663 - accuracy: 0.4094 - val_loss: 1.2035 - val_accuracy: 0.4893\n",
      "Epoch 2/50\n",
      "1850/1850 [==============================] - 3s 1ms/step - loss: 1.1077 - accuracy: 0.5338 - val_loss: 1.0775 - val_accuracy: 0.5520\n",
      "Epoch 3/50\n",
      "1850/1850 [==============================] - 3s 2ms/step - loss: 1.0483 - accuracy: 0.5611 - val_loss: 1.0516 - val_accuracy: 0.5518\n",
      "Epoch 4/50\n",
      "1850/1850 [==============================] - 3s 1ms/step - loss: 1.0250 - accuracy: 0.5679 - val_loss: 1.0388 - val_accuracy: 0.5577\n",
      "Epoch 5/50\n",
      "1850/1850 [==============================] - 3s 1ms/step - loss: 1.0136 - accuracy: 0.5740 - val_loss: 1.0281 - val_accuracy: 0.5654\n",
      "Epoch 6/50\n",
      "1850/1850 [==============================] - 3s 1ms/step - loss: 1.0055 - accuracy: 0.5733 - val_loss: 1.0181 - val_accuracy: 0.5694\n",
      "Epoch 7/50\n",
      "1850/1850 [==============================] - 3s 2ms/step - loss: 0.9986 - accuracy: 0.5775 - val_loss: 1.0152 - val_accuracy: 0.5681\n",
      "Epoch 8/50\n",
      "1850/1850 [==============================] - 3s 2ms/step - loss: 0.9926 - accuracy: 0.5789 - val_loss: 1.0229 - val_accuracy: 0.5677\n",
      "Epoch 9/50\n",
      "1850/1850 [==============================] - 3s 1ms/step - loss: 0.9859 - accuracy: 0.5816 - val_loss: 1.0236 - val_accuracy: 0.5617\n",
      "Epoch 10/50\n",
      "1850/1850 [==============================] - 3s 1ms/step - loss: 0.9788 - accuracy: 0.5851 - val_loss: 1.0049 - val_accuracy: 0.5701\n",
      "Epoch 11/50\n",
      "1850/1850 [==============================] - 3s 2ms/step - loss: 0.9717 - accuracy: 0.5880 - val_loss: 0.9981 - val_accuracy: 0.5713\n",
      "Epoch 12/50\n",
      "1850/1850 [==============================] - 3s 1ms/step - loss: 0.9645 - accuracy: 0.5915 - val_loss: 0.9935 - val_accuracy: 0.5752\n",
      "Epoch 13/50\n",
      "1850/1850 [==============================] - 3s 1ms/step - loss: 0.9576 - accuracy: 0.5939 - val_loss: 1.0082 - val_accuracy: 0.5746\n",
      "Epoch 14/50\n",
      "1850/1850 [==============================] - 3s 1ms/step - loss: 0.9509 - accuracy: 0.5965 - val_loss: 0.9967 - val_accuracy: 0.5781\n",
      "Epoch 15/50\n",
      "1850/1850 [==============================] - 3s 2ms/step - loss: 0.9427 - accuracy: 0.6015 - val_loss: 0.9875 - val_accuracy: 0.5789\n",
      "Epoch 16/50\n",
      "1850/1850 [==============================] - 3s 2ms/step - loss: 0.9356 - accuracy: 0.6022 - val_loss: 0.9813 - val_accuracy: 0.5809\n",
      "Epoch 17/50\n",
      "1850/1850 [==============================] - 3s 2ms/step - loss: 0.9302 - accuracy: 0.6048 - val_loss: 0.9761 - val_accuracy: 0.5886\n",
      "Epoch 18/50\n",
      "1850/1850 [==============================] - 3s 2ms/step - loss: 0.9228 - accuracy: 0.6066 - val_loss: 0.9720 - val_accuracy: 0.5899\n",
      "Epoch 19/50\n",
      "1850/1850 [==============================] - 3s 2ms/step - loss: 0.9162 - accuracy: 0.6129 - val_loss: 0.9686 - val_accuracy: 0.5918\n",
      "Epoch 20/50\n",
      "1850/1850 [==============================] - 3s 2ms/step - loss: 0.9102 - accuracy: 0.6141 - val_loss: 0.9816 - val_accuracy: 0.5879\n",
      "Epoch 21/50\n",
      "1850/1850 [==============================] - 3s 2ms/step - loss: 0.9037 - accuracy: 0.6169 - val_loss: 0.9660 - val_accuracy: 0.5940\n",
      "Epoch 22/50\n",
      "1850/1850 [==============================] - 4s 2ms/step - loss: 0.8980 - accuracy: 0.6213 - val_loss: 0.9678 - val_accuracy: 0.5932\n",
      "Epoch 23/50\n",
      "1850/1850 [==============================] - 3s 2ms/step - loss: 0.8910 - accuracy: 0.6256 - val_loss: 0.9562 - val_accuracy: 0.5957\n",
      "Epoch 24/50\n",
      "1850/1850 [==============================] - 3s 2ms/step - loss: 0.8842 - accuracy: 0.6288 - val_loss: 0.9526 - val_accuracy: 0.5977\n",
      "Epoch 25/50\n",
      "1850/1850 [==============================] - 3s 2ms/step - loss: 0.8786 - accuracy: 0.6314 - val_loss: 0.9532 - val_accuracy: 0.5969\n",
      "Epoch 26/50\n",
      "1850/1850 [==============================] - 3s 2ms/step - loss: 0.8724 - accuracy: 0.6343 - val_loss: 0.9555 - val_accuracy: 0.5990\n",
      "Epoch 27/50\n",
      "1850/1850 [==============================] - 3s 2ms/step - loss: 0.8666 - accuracy: 0.6388 - val_loss: 0.9586 - val_accuracy: 0.5977\n",
      "Epoch 28/50\n",
      "1850/1850 [==============================] - 3s 2ms/step - loss: 0.8602 - accuracy: 0.6396 - val_loss: 0.9492 - val_accuracy: 0.6016\n",
      "Epoch 29/50\n",
      "1850/1850 [==============================] - 3s 2ms/step - loss: 0.8544 - accuracy: 0.6433 - val_loss: 0.9510 - val_accuracy: 0.6009\n",
      "Epoch 30/50\n",
      "1850/1850 [==============================] - 3s 2ms/step - loss: 0.8487 - accuracy: 0.6470 - val_loss: 0.9439 - val_accuracy: 0.6037\n",
      "Epoch 31/50\n",
      "1850/1850 [==============================] - 3s 2ms/step - loss: 0.8424 - accuracy: 0.6501 - val_loss: 0.9465 - val_accuracy: 0.6043\n",
      "Epoch 32/50\n",
      "1850/1850 [==============================] - 3s 2ms/step - loss: 0.8368 - accuracy: 0.6509 - val_loss: 0.9493 - val_accuracy: 0.6023\n",
      "Epoch 33/50\n",
      "1850/1850 [==============================] - 3s 2ms/step - loss: 0.8318 - accuracy: 0.6550 - val_loss: 0.9417 - val_accuracy: 0.6073\n",
      "Epoch 34/50\n",
      "1850/1850 [==============================] - 3s 2ms/step - loss: 0.8269 - accuracy: 0.6568 - val_loss: 0.9386 - val_accuracy: 0.6106\n",
      "Epoch 35/50\n",
      "1850/1850 [==============================] - 3s 2ms/step - loss: 0.8210 - accuracy: 0.6598 - val_loss: 0.9351 - val_accuracy: 0.6118\n",
      "Epoch 36/50\n",
      "1850/1850 [==============================] - 3s 1ms/step - loss: 0.8162 - accuracy: 0.6618 - val_loss: 0.9317 - val_accuracy: 0.6115\n",
      "Epoch 37/50\n",
      "1850/1850 [==============================] - 3s 2ms/step - loss: 0.8111 - accuracy: 0.6635 - val_loss: 0.9406 - val_accuracy: 0.6092\n",
      "Epoch 38/50\n",
      "1850/1850 [==============================] - 3s 1ms/step - loss: 0.8064 - accuracy: 0.6667 - val_loss: 0.9352 - val_accuracy: 0.6115\n",
      "Epoch 39/50\n",
      "1850/1850 [==============================] - 3s 2ms/step - loss: 0.8009 - accuracy: 0.6688 - val_loss: 0.9426 - val_accuracy: 0.6108\n",
      "Epoch 40/50\n",
      "1850/1850 [==============================] - 3s 2ms/step - loss: 0.7965 - accuracy: 0.6702 - val_loss: 0.9343 - val_accuracy: 0.6166\n",
      "Epoch 41/50\n",
      "1850/1850 [==============================] - 3s 2ms/step - loss: 0.7921 - accuracy: 0.6746 - val_loss: 0.9327 - val_accuracy: 0.6186\n",
      "Epoch 42/50\n",
      "1850/1850 [==============================] - 3s 2ms/step - loss: 0.7877 - accuracy: 0.6749 - val_loss: 0.9274 - val_accuracy: 0.6221\n",
      "Epoch 43/50\n",
      "1850/1850 [==============================] - 3s 2ms/step - loss: 0.7839 - accuracy: 0.6761 - val_loss: 0.9258 - val_accuracy: 0.6208\n",
      "Epoch 44/50\n",
      "1850/1850 [==============================] - 3s 2ms/step - loss: 0.7803 - accuracy: 0.6785 - val_loss: 0.9292 - val_accuracy: 0.6180\n",
      "Epoch 45/50\n",
      "1850/1850 [==============================] - 3s 2ms/step - loss: 0.7753 - accuracy: 0.6795 - val_loss: 0.9373 - val_accuracy: 0.6170\n",
      "Epoch 46/50\n",
      "1850/1850 [==============================] - 3s 2ms/step - loss: 0.7725 - accuracy: 0.6817 - val_loss: 0.9322 - val_accuracy: 0.6225\n",
      "Epoch 47/50\n",
      "1850/1850 [==============================] - 3s 2ms/step - loss: 0.7690 - accuracy: 0.6839 - val_loss: 0.9247 - val_accuracy: 0.6239\n",
      "Epoch 48/50\n",
      "1850/1850 [==============================] - 3s 2ms/step - loss: 0.7643 - accuracy: 0.6837 - val_loss: 0.9294 - val_accuracy: 0.6182\n",
      "Epoch 49/50\n",
      "1850/1850 [==============================] - 3s 2ms/step - loss: 0.7620 - accuracy: 0.6867 - val_loss: 0.9339 - val_accuracy: 0.6161\n",
      "Epoch 50/50\n",
      "1850/1850 [==============================] - 3s 2ms/step - loss: 0.7587 - accuracy: 0.6869 - val_loss: 0.9250 - val_accuracy: 0.6219\n"
     ]
    }
   ],
   "source": [
    "num_epochs = 50\n",
    "history = model.fit(padded,\n",
    "                    y_train,\n",
    "                    epochs=num_epochs,\n",
    "                    validation_data=(testing_padded, y_test))"
   ]
  },
  {
   "cell_type": "code",
   "execution_count": 107,
   "id": "905755b0",
   "metadata": {},
   "outputs": [
    {
     "name": "stdout",
     "output_type": "stream",
     "text": [
      "463/463 [==============================] - 1s 1ms/step - loss: 0.9250 - accuracy: 0.6219\n"
     ]
    },
    {
     "data": {
      "text/plain": [
       "[0.9249573349952698, 0.6218663454055786]"
      ]
     },
     "execution_count": 107,
     "metadata": {},
     "output_type": "execute_result"
    }
   ],
   "source": [
    "model.evaluate(testing_padded, y_test)"
   ]
  }
 ],
 "metadata": {
  "kernelspec": {
   "display_name": "Python 3 (ipykernel)",
   "language": "python",
   "name": "python3"
  },
  "language_info": {
   "codemirror_mode": {
    "name": "ipython",
    "version": 3
   },
   "file_extension": ".py",
   "mimetype": "text/x-python",
   "name": "python",
   "nbconvert_exporter": "python",
   "pygments_lexer": "ipython3",
   "version": "3.8.15"
  }
 },
 "nbformat": 4,
 "nbformat_minor": 5
}
